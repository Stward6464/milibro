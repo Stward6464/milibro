{
 "cells": [
  {
   "cell_type": "markdown",
   "id": "646f768c",
   "metadata": {},
   "source": [
    "# pagina 3\n",
    "# Aprendizaje por Reforzamiento (Reinforcement Learning)\n",
    "\n",
    "El Aprendizaje por Reforzamiento (Reinforcement Learning, en inglés) es un enfoque de aprendizaje automático en el que un agente interactúa con un entorno y toma decisiones para maximizar una recompensa acumulativa a lo largo del tiempo. A través de la interacción repetida, el agente aprende a identificar las acciones que conducen a las recompensas más altas y las que deben evitarse.\n",
    "\n",
    "En el aprendizaje por refuerzo, el agente no recibe ejemplos etiquetados como en otros enfoques de aprendizaje automático, como el aprendizaje supervisado. En cambio, el agente explora el entorno y ajusta su estrategia de toma de decisiones en función de las recompensas y penalizaciones que recibe. Este enfoque se ha utilizado en una variedad de aplicaciones, incluidos juegos, robótica, recomendación de contenido y control de procesos.\n",
    "\n",
    "El aprendizaje por refuerzo se inspira en la psicología conductual y se ha convertido en un campo importante en la inteligencia artificial, con algoritmos y modelos como Q-learning y redes neuronales profundas que han demostrado un gran éxito en la resolución de problemas complejos."
   ]
  }
 ],
 "metadata": {
  "jupytext": {
   "formats": "md:myst",
   "text_representation": {
    "extension": ".md",
    "format_name": "myst",
    "format_version": 0.13,
    "jupytext_version": "1.11.5"
   }
  },
  "kernelspec": {
   "display_name": "Python 3",
   "language": "python",
   "name": "python3"
  },
  "language_info": {
   "codemirror_mode": {
    "name": "ipython",
    "version": 3
   },
   "file_extension": ".py",
   "mimetype": "text/x-python",
   "name": "python",
   "nbconvert_exporter": "python",
   "pygments_lexer": "ipython3",
   "version": "3.10.0"
  },
  "source_map": [
   13
  ]
 },
 "nbformat": 4,
 "nbformat_minor": 5
}